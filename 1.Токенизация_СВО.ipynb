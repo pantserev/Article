{
 "cells": [
  {
   "cell_type": "code",
   "execution_count": 33,
   "id": "b5b0e738",
   "metadata": {},
   "outputs": [],
   "source": [
    "import pandas as pd\n",
    "import numpy as np\n",
    "import seaborn as sns\n",
    "import matplotlib.pyplot as plt\n",
    "from wordcloud import WordCloud"
   ]
  },
  {
   "cell_type": "code",
   "execution_count": 3,
   "id": "d6006d7f-d42e-4f59-b918-dded20d71f91",
   "metadata": {},
   "outputs": [
    {
     "name": "stderr",
     "output_type": "stream",
     "text": [
      "[nltk_data] Downloading package punkt to\n",
      "[nltk_data]     C:\\Users\\User\\AppData\\Roaming\\nltk_data...\n",
      "[nltk_data]   Package punkt is already up-to-date!\n",
      "[nltk_data] Downloading package stopwords to\n",
      "[nltk_data]     C:\\Users\\User\\AppData\\Roaming\\nltk_data...\n",
      "[nltk_data]   Package stopwords is already up-to-date!\n"
     ]
    }
   ],
   "source": [
    "import string\n",
    "import re\n",
    "import nltk\n",
    "nltk.download('punkt')\n",
    "nltk.download('stopwords')\n",
    "from nltk.corpus import stopwords"
   ]
  },
  {
   "cell_type": "code",
   "execution_count": 5,
   "id": "f183b7ed-1dd7-4a16-8511-8484bc8c20c7",
   "metadata": {},
   "outputs": [],
   "source": [
    "from nltk.probability import FreqDist"
   ]
  },
  {
   "cell_type": "code",
   "execution_count": 7,
   "id": "12609514-90b5-4aa7-8539-e65c0bd6b4d4",
   "metadata": {},
   "outputs": [],
   "source": [
    "import pymorphy3"
   ]
  },
  {
   "cell_type": "code",
   "execution_count": 9,
   "id": "8512bf33-8267-4795-8452-186d2faf3a67",
   "metadata": {},
   "outputs": [
    {
     "data": {
      "text/html": [
       "<div>\n",
       "<style scoped>\n",
       "    .dataframe tbody tr th:only-of-type {\n",
       "        vertical-align: middle;\n",
       "    }\n",
       "\n",
       "    .dataframe tbody tr th {\n",
       "        vertical-align: top;\n",
       "    }\n",
       "\n",
       "    .dataframe thead th {\n",
       "        text-align: right;\n",
       "    }\n",
       "</style>\n",
       "<table border=\"1\" class=\"dataframe\">\n",
       "  <thead>\n",
       "    <tr style=\"text-align: right;\">\n",
       "      <th></th>\n",
       "      <th>Unnamed: 0</th>\n",
       "      <th>0</th>\n",
       "      <th>1</th>\n",
       "      <th>2</th>\n",
       "      <th>3</th>\n",
       "      <th>4</th>\n",
       "    </tr>\n",
       "  </thead>\n",
       "  <tbody>\n",
       "    <tr>\n",
       "      <th>0</th>\n",
       "      <td>0</td>\n",
       "      <td>2024-06-30 19:55:20</td>\n",
       "      <td>293</td>\n",
       "      <td>717488971</td>\n",
       "      <td>717488971</td>\n",
       "      <td>Прокуратура Центрального района г.Новокузнецка...</td>\n",
       "    </tr>\n",
       "    <tr>\n",
       "      <th>1</th>\n",
       "      <td>1</td>\n",
       "      <td>2024-06-30 19:54:17</td>\n",
       "      <td>21094</td>\n",
       "      <td>41250601</td>\n",
       "      <td>41250601</td>\n",
       "      <td>Краткая версия репетиции Марша на Вашингтон у ...</td>\n",
       "    </tr>\n",
       "    <tr>\n",
       "      <th>2</th>\n",
       "      <td>2</td>\n",
       "      <td>2024-06-30 19:54:17</td>\n",
       "      <td>126271</td>\n",
       "      <td>16189980</td>\n",
       "      <td>16189980</td>\n",
       "      <td>КАКОВ КАДРОВЫЙ СОСТАВ ВЫСШЕЙ ГОСУДАРСТВЕННОЙ В...</td>\n",
       "    </tr>\n",
       "    <tr>\n",
       "      <th>3</th>\n",
       "      <td>3</td>\n",
       "      <td>2024-06-30 19:53:04</td>\n",
       "      <td>5172</td>\n",
       "      <td>94262922</td>\n",
       "      <td>94262922</td>\n",
       "      <td>Краткая версия репетиции Марша на Вашингтон у ...</td>\n",
       "    </tr>\n",
       "    <tr>\n",
       "      <th>4</th>\n",
       "      <td>4</td>\n",
       "      <td>2024-06-30 19:47:06</td>\n",
       "      <td>121438</td>\n",
       "      <td>588914966</td>\n",
       "      <td>588914966</td>\n",
       "      <td>Специальная военная операция. Обстановка на 30...</td>\n",
       "    </tr>\n",
       "  </tbody>\n",
       "</table>\n",
       "</div>"
      ],
      "text/plain": [
       "   Unnamed: 0                    0       1          2          3  \\\n",
       "0           0  2024-06-30 19:55:20     293  717488971  717488971   \n",
       "1           1  2024-06-30 19:54:17   21094   41250601   41250601   \n",
       "2           2  2024-06-30 19:54:17  126271   16189980   16189980   \n",
       "3           3  2024-06-30 19:53:04    5172   94262922   94262922   \n",
       "4           4  2024-06-30 19:47:06  121438  588914966  588914966   \n",
       "\n",
       "                                                   4  \n",
       "0  Прокуратура Центрального района г.Новокузнецка...  \n",
       "1  Краткая версия репетиции Марша на Вашингтон у ...  \n",
       "2  КАКОВ КАДРОВЫЙ СОСТАВ ВЫСШЕЙ ГОСУДАРСТВЕННОЙ В...  \n",
       "3  Краткая версия репетиции Марша на Вашингтон у ...  \n",
       "4  Специальная военная операция. Обстановка на 30...  "
      ]
     },
     "execution_count": 9,
     "metadata": {},
     "output_type": "execute_result"
    }
   ],
   "source": [
    "df_posts = pd.read_csv('posts_svo.csv')\n",
    "df_posts.head()"
   ]
  },
  {
   "cell_type": "code",
   "execution_count": null,
   "id": "6cf9e600-2d47-4d98-8923-96226d61ee0f",
   "metadata": {},
   "outputs": [],
   "source": [
    "df_posts"
   ]
  },
  {
   "cell_type": "code",
   "execution_count": null,
   "id": "2b8e094b-6113-426d-8975-b98540e02180",
   "metadata": {},
   "outputs": [],
   "source": [
    "df_posts.shape"
   ]
  },
  {
   "cell_type": "code",
   "execution_count": null,
   "id": "e4361ed2-3da6-42b5-b51b-78c7f9aa7371",
   "metadata": {},
   "outputs": [],
   "source": [
    "help(pd.read_csv)"
   ]
  },
  {
   "cell_type": "code",
   "execution_count": null,
   "id": "b20150f8-6625-4562-b61b-90700edb7c8b",
   "metadata": {},
   "outputs": [],
   "source": [
    "df_demilit = pd.read_csv('posts_svodemilit.csv', encoding_errors = 'ignore')\n",
    "df_demilit "
   ]
  },
  {
   "cell_type": "markdown",
   "id": "a3be2397-6166-4600-81c6-b341f157db86",
   "metadata": {},
   "source": [
    "**ТОКЕНИЗАЦИЯ ТЕКСТА**"
   ]
  },
  {
   "cell_type": "code",
   "execution_count": 11,
   "id": "9f21bf6f-0fc3-46fb-87ff-2796d1e4a9ff",
   "metadata": {},
   "outputs": [],
   "source": [
    "stop_words = stopwords.words('russian')\n",
    "morph = pymorphy3.MorphAnalyzer()"
   ]
  },
  {
   "cell_type": "code",
   "execution_count": 25,
   "id": "42aeca66-7f96-4fca-884b-89a60a56458c",
   "metadata": {},
   "outputs": [],
   "source": [
    "def tokenize_text(raw_text: str):\n",
    "    \"\"\"Функция для токенизации текста\n",
    "    :param raw_text: исходная текстовая строка\n",
    "    \"\"\"\n",
    "    # Разбиение на сслова при помощи пробела\n",
    "    words = raw_text.split()\n",
    "    # Подготовка регулярного выражения для фильтрации символов\n",
    "    re_punc = re.compile('[%s]' % re.escape(string.punctuation))\n",
    "    # Удаление знаков препинания\n",
    "    stripped = [re_punc.sub('', w) for w in words]\n",
    "    # Приведение всех слов к нижнему регистру\n",
    "    words_lower = [w.lower() for w in stripped]\n",
    "    # Удаление оставшихся токенов, которые не являются буквами\n",
    "    words_alpha = [word for word in words_lower if word.isalpha()]\n",
    "    # Удаление стоп-слов    \n",
    "    words_stop = [w for w in words_alpha if not w in stop_words]\n",
    "    # Лемматизация    \n",
    "    tokens = [morph.parse(token)[0].normal_form for token in words_stop]\n",
    "    # Удалим короткие токены\n",
    "    tokens = [word for word in tokens if len(word) > 1]\n",
    "    # формируем бигнрамы\n",
    "    bigrams = nltk.bigrams(tokens)\n",
    "    bigrams = [bigram for bigram in bigrams]\n",
    "   \n",
    "    return bigrams"
   ]
  },
  {
   "cell_type": "markdown",
   "id": "0fc59b09-4e64-4135-ad47-3aec73b892eb",
   "metadata": {},
   "source": [
    "**1. Токенизация \"Специальная военная операция\"**"
   ]
  },
  {
   "cell_type": "code",
   "execution_count": 27,
   "id": "92711ded-f83c-4f6f-9a79-baba6950739f",
   "metadata": {},
   "outputs": [],
   "source": [
    "df_mini = df_posts.iloc [0:500]"
   ]
  },
  {
   "cell_type": "code",
   "execution_count": 29,
   "id": "54f697fd-b450-4a88-8e50-2feef9afe93d",
   "metadata": {},
   "outputs": [],
   "source": [
    "# применяем функцию к датафрейму с помощью метода .apply()\n",
    "tokenized= df_mini['4'].apply(tokenize_text)"
   ]
  },
  {
   "cell_type": "code",
   "execution_count": 31,
   "id": "7abaf746-7935-4feb-81d4-f32de3486b9a",
   "metadata": {},
   "outputs": [
    {
     "data": {
      "text/html": [
       "<div>\n",
       "<style scoped>\n",
       "    .dataframe tbody tr th:only-of-type {\n",
       "        vertical-align: middle;\n",
       "    }\n",
       "\n",
       "    .dataframe tbody tr th {\n",
       "        vertical-align: top;\n",
       "    }\n",
       "\n",
       "    .dataframe thead th {\n",
       "        text-align: right;\n",
       "    }\n",
       "</style>\n",
       "<table border=\"1\" class=\"dataframe\">\n",
       "  <thead>\n",
       "    <tr style=\"text-align: right;\">\n",
       "      <th></th>\n",
       "      <th>Unnamed: 0</th>\n",
       "      <th>0</th>\n",
       "      <th>1</th>\n",
       "      <th>2</th>\n",
       "      <th>3</th>\n",
       "      <th>4</th>\n",
       "      <th>tokenized</th>\n",
       "    </tr>\n",
       "  </thead>\n",
       "  <tbody>\n",
       "    <tr>\n",
       "      <th>0</th>\n",
       "      <td>0</td>\n",
       "      <td>2024-06-30 19:55:20</td>\n",
       "      <td>293</td>\n",
       "      <td>717488971</td>\n",
       "      <td>717488971</td>\n",
       "      <td>Прокуратура Центрального района г.Новокузнецка...</td>\n",
       "      <td>[(прокуратура, центральный), (центральный, рай...</td>\n",
       "    </tr>\n",
       "    <tr>\n",
       "      <th>1</th>\n",
       "      <td>1</td>\n",
       "      <td>2024-06-30 19:54:17</td>\n",
       "      <td>21094</td>\n",
       "      <td>41250601</td>\n",
       "      <td>41250601</td>\n",
       "      <td>Краткая версия репетиции Марша на Вашингтон у ...</td>\n",
       "      <td>[(краткий, версия), (версия, репетиция), (репе...</td>\n",
       "    </tr>\n",
       "    <tr>\n",
       "      <th>2</th>\n",
       "      <td>2</td>\n",
       "      <td>2024-06-30 19:54:17</td>\n",
       "      <td>126271</td>\n",
       "      <td>16189980</td>\n",
       "      <td>16189980</td>\n",
       "      <td>КАКОВ КАДРОВЫЙ СОСТАВ ВЫСШЕЙ ГОСУДАРСТВЕННОЙ В...</td>\n",
       "      <td>[(каковой, кадровый), (кадровый, состав), (сос...</td>\n",
       "    </tr>\n",
       "    <tr>\n",
       "      <th>3</th>\n",
       "      <td>3</td>\n",
       "      <td>2024-06-30 19:53:04</td>\n",
       "      <td>5172</td>\n",
       "      <td>94262922</td>\n",
       "      <td>94262922</td>\n",
       "      <td>Краткая версия репетиции Марша на Вашингтон у ...</td>\n",
       "      <td>[(краткий, версия), (версия, репетиция), (репе...</td>\n",
       "    </tr>\n",
       "    <tr>\n",
       "      <th>4</th>\n",
       "      <td>4</td>\n",
       "      <td>2024-06-30 19:47:06</td>\n",
       "      <td>121438</td>\n",
       "      <td>588914966</td>\n",
       "      <td>588914966</td>\n",
       "      <td>Специальная военная операция. Обстановка на 30...</td>\n",
       "      <td>[(специальный, военный), (военный, операция), ...</td>\n",
       "    </tr>\n",
       "  </tbody>\n",
       "</table>\n",
       "</div>"
      ],
      "text/plain": [
       "   Unnamed: 0                    0       1          2          3  \\\n",
       "0           0  2024-06-30 19:55:20     293  717488971  717488971   \n",
       "1           1  2024-06-30 19:54:17   21094   41250601   41250601   \n",
       "2           2  2024-06-30 19:54:17  126271   16189980   16189980   \n",
       "3           3  2024-06-30 19:53:04    5172   94262922   94262922   \n",
       "4           4  2024-06-30 19:47:06  121438  588914966  588914966   \n",
       "\n",
       "                                                   4  \\\n",
       "0  Прокуратура Центрального района г.Новокузнецка...   \n",
       "1  Краткая версия репетиции Марша на Вашингтон у ...   \n",
       "2  КАКОВ КАДРОВЫЙ СОСТАВ ВЫСШЕЙ ГОСУДАРСТВЕННОЙ В...   \n",
       "3  Краткая версия репетиции Марша на Вашингтон у ...   \n",
       "4  Специальная военная операция. Обстановка на 30...   \n",
       "\n",
       "                                           tokenized  \n",
       "0  [(прокуратура, центральный), (центральный, рай...  \n",
       "1  [(краткий, версия), (версия, репетиция), (репе...  \n",
       "2  [(каковой, кадровый), (кадровый, состав), (сос...  \n",
       "3  [(краткий, версия), (версия, репетиция), (репе...  \n",
       "4  [(специальный, военный), (военный, операция), ...  "
      ]
     },
     "execution_count": 31,
     "metadata": {},
     "output_type": "execute_result"
    }
   ],
   "source": [
    "# добавляем новую колонку в исходный датафрейм\n",
    "df_posts_mini = df_mini.assign(tokenized=tokenized)\n",
    "df_posts_mini.head()"
   ]
  },
  {
   "cell_type": "code",
   "execution_count": 75,
   "id": "1eb03baf-3c78-4220-83c3-7d958a2e9604",
   "metadata": {},
   "outputs": [],
   "source": [
    "words_list = list(df_posts_mini['tokenized'])"
   ]
  },
  {
   "cell_type": "code",
   "execution_count": 55,
   "id": "d85fab64-41ff-4110-aabe-8bd05ad7d32b",
   "metadata": {},
   "outputs": [],
   "source": [
    "textt = ''\n",
    "for el in words_list:\n",
    "    #Добавляем к строке элемент списка\n",
    "    textt += str(el)\n",
    "    #Добавляем к строке разделитель — в данном случае пробел\n",
    "    textt += ' '"
   ]
  },
  {
   "cell_type": "code",
   "execution_count": null,
   "id": "64ba17d0-93af-473b-b807-cc35a6b6185f",
   "metadata": {},
   "outputs": [],
   "source": [
    "strings"
   ]
  },
  {
   "cell_type": "code",
   "execution_count": 69,
   "id": "9f220a3b-c857-463a-9d62-84436f038357",
   "metadata": {},
   "outputs": [
    {
     "ename": "TypeError",
     "evalue": "expected string or bytes-like object, got 'list'",
     "output_type": "error",
     "traceback": [
      "\u001b[1;31m---------------------------------------------------------------------------\u001b[0m",
      "\u001b[1;31mTypeError\u001b[0m                                 Traceback (most recent call last)",
      "Cell \u001b[1;32mIn[69], line 1\u001b[0m\n\u001b[1;32m----> 1\u001b[0m wordcloud \u001b[38;5;241m=\u001b[39m WordCloud(width\u001b[38;5;241m=\u001b[39m\u001b[38;5;241m450\u001b[39m,height\u001b[38;5;241m=\u001b[39m\u001b[38;5;241m250\u001b[39m)\u001b[38;5;241m.\u001b[39mgenerate(words_list)\n\u001b[0;32m      2\u001b[0m plt\u001b[38;5;241m.\u001b[39mimshow(wordcloud, interpolation\u001b[38;5;241m=\u001b[39m\u001b[38;5;124m'\u001b[39m\u001b[38;5;124mbilinear\u001b[39m\u001b[38;5;124m'\u001b[39m)\n\u001b[0;32m      3\u001b[0m plt\u001b[38;5;241m.\u001b[39maxis(\u001b[38;5;124m\"\u001b[39m\u001b[38;5;124moff\u001b[39m\u001b[38;5;124m\"\u001b[39m)\n",
      "File \u001b[1;32m~\\anaconda3\\Lib\\site-packages\\wordcloud\\wordcloud.py:642\u001b[0m, in \u001b[0;36mWordCloud.generate\u001b[1;34m(self, text)\u001b[0m\n\u001b[0;32m    627\u001b[0m \u001b[38;5;28;01mdef\u001b[39;00m \u001b[38;5;21mgenerate\u001b[39m(\u001b[38;5;28mself\u001b[39m, text):\n\u001b[0;32m    628\u001b[0m \u001b[38;5;250m    \u001b[39m\u001b[38;5;124;03m\"\"\"Generate wordcloud from text.\u001b[39;00m\n\u001b[0;32m    629\u001b[0m \n\u001b[0;32m    630\u001b[0m \u001b[38;5;124;03m    The input \"text\" is expected to be a natural text. If you pass a sorted\u001b[39;00m\n\u001b[1;32m   (...)\u001b[0m\n\u001b[0;32m    640\u001b[0m \u001b[38;5;124;03m    self\u001b[39;00m\n\u001b[0;32m    641\u001b[0m \u001b[38;5;124;03m    \"\"\"\u001b[39;00m\n\u001b[1;32m--> 642\u001b[0m     \u001b[38;5;28;01mreturn\u001b[39;00m \u001b[38;5;28mself\u001b[39m\u001b[38;5;241m.\u001b[39mgenerate_from_text(text)\n",
      "File \u001b[1;32m~\\anaconda3\\Lib\\site-packages\\wordcloud\\wordcloud.py:623\u001b[0m, in \u001b[0;36mWordCloud.generate_from_text\u001b[1;34m(self, text)\u001b[0m\n\u001b[0;32m    606\u001b[0m \u001b[38;5;28;01mdef\u001b[39;00m \u001b[38;5;21mgenerate_from_text\u001b[39m(\u001b[38;5;28mself\u001b[39m, text):\n\u001b[0;32m    607\u001b[0m \u001b[38;5;250m    \u001b[39m\u001b[38;5;124;03m\"\"\"Generate wordcloud from text.\u001b[39;00m\n\u001b[0;32m    608\u001b[0m \n\u001b[0;32m    609\u001b[0m \u001b[38;5;124;03m    The input \"text\" is expected to be a natural text. If you pass a sorted\u001b[39;00m\n\u001b[1;32m   (...)\u001b[0m\n\u001b[0;32m    621\u001b[0m \u001b[38;5;124;03m    self\u001b[39;00m\n\u001b[0;32m    622\u001b[0m \u001b[38;5;124;03m    \"\"\"\u001b[39;00m\n\u001b[1;32m--> 623\u001b[0m     words \u001b[38;5;241m=\u001b[39m \u001b[38;5;28mself\u001b[39m\u001b[38;5;241m.\u001b[39mprocess_text(text)\n\u001b[0;32m    624\u001b[0m     \u001b[38;5;28mself\u001b[39m\u001b[38;5;241m.\u001b[39mgenerate_from_frequencies(words)\n\u001b[0;32m    625\u001b[0m     \u001b[38;5;28;01mreturn\u001b[39;00m \u001b[38;5;28mself\u001b[39m\n",
      "File \u001b[1;32m~\\anaconda3\\Lib\\site-packages\\wordcloud\\wordcloud.py:585\u001b[0m, in \u001b[0;36mWordCloud.process_text\u001b[1;34m(self, text)\u001b[0m\n\u001b[0;32m    582\u001b[0m pattern \u001b[38;5;241m=\u001b[39m \u001b[38;5;124mr\u001b[39m\u001b[38;5;124m\"\u001b[39m\u001b[38;5;124m\\\u001b[39m\u001b[38;5;124mw[\u001b[39m\u001b[38;5;124m\\\u001b[39m\u001b[38;5;124mw\u001b[39m\u001b[38;5;124m'\u001b[39m\u001b[38;5;124m]*\u001b[39m\u001b[38;5;124m\"\u001b[39m \u001b[38;5;28;01mif\u001b[39;00m \u001b[38;5;28mself\u001b[39m\u001b[38;5;241m.\u001b[39mmin_word_length \u001b[38;5;241m<\u001b[39m\u001b[38;5;241m=\u001b[39m \u001b[38;5;241m1\u001b[39m \u001b[38;5;28;01melse\u001b[39;00m \u001b[38;5;124mr\u001b[39m\u001b[38;5;124m\"\u001b[39m\u001b[38;5;124m\\\u001b[39m\u001b[38;5;124mw[\u001b[39m\u001b[38;5;124m\\\u001b[39m\u001b[38;5;124mw\u001b[39m\u001b[38;5;124m'\u001b[39m\u001b[38;5;124m]+\u001b[39m\u001b[38;5;124m\"\u001b[39m\n\u001b[0;32m    583\u001b[0m regexp \u001b[38;5;241m=\u001b[39m \u001b[38;5;28mself\u001b[39m\u001b[38;5;241m.\u001b[39mregexp \u001b[38;5;28;01mif\u001b[39;00m \u001b[38;5;28mself\u001b[39m\u001b[38;5;241m.\u001b[39mregexp \u001b[38;5;129;01mis\u001b[39;00m \u001b[38;5;129;01mnot\u001b[39;00m \u001b[38;5;28;01mNone\u001b[39;00m \u001b[38;5;28;01melse\u001b[39;00m pattern\n\u001b[1;32m--> 585\u001b[0m words \u001b[38;5;241m=\u001b[39m re\u001b[38;5;241m.\u001b[39mfindall(regexp, text, flags)\n\u001b[0;32m    586\u001b[0m \u001b[38;5;66;03m# remove 's\u001b[39;00m\n\u001b[0;32m    587\u001b[0m words \u001b[38;5;241m=\u001b[39m [word[:\u001b[38;5;241m-\u001b[39m\u001b[38;5;241m2\u001b[39m] \u001b[38;5;28;01mif\u001b[39;00m word\u001b[38;5;241m.\u001b[39mlower()\u001b[38;5;241m.\u001b[39mendswith(\u001b[38;5;124m\"\u001b[39m\u001b[38;5;124m'\u001b[39m\u001b[38;5;124ms\u001b[39m\u001b[38;5;124m\"\u001b[39m) \u001b[38;5;28;01melse\u001b[39;00m word\n\u001b[0;32m    588\u001b[0m          \u001b[38;5;28;01mfor\u001b[39;00m word \u001b[38;5;129;01min\u001b[39;00m words]\n",
      "File \u001b[1;32m~\\anaconda3\\Lib\\re\\__init__.py:216\u001b[0m, in \u001b[0;36mfindall\u001b[1;34m(pattern, string, flags)\u001b[0m\n\u001b[0;32m    208\u001b[0m \u001b[38;5;28;01mdef\u001b[39;00m \u001b[38;5;21mfindall\u001b[39m(pattern, string, flags\u001b[38;5;241m=\u001b[39m\u001b[38;5;241m0\u001b[39m):\n\u001b[0;32m    209\u001b[0m \u001b[38;5;250m    \u001b[39m\u001b[38;5;124;03m\"\"\"Return a list of all non-overlapping matches in the string.\u001b[39;00m\n\u001b[0;32m    210\u001b[0m \n\u001b[0;32m    211\u001b[0m \u001b[38;5;124;03m    If one or more capturing groups are present in the pattern, return\u001b[39;00m\n\u001b[1;32m   (...)\u001b[0m\n\u001b[0;32m    214\u001b[0m \n\u001b[0;32m    215\u001b[0m \u001b[38;5;124;03m    Empty matches are included in the result.\"\"\"\u001b[39;00m\n\u001b[1;32m--> 216\u001b[0m     \u001b[38;5;28;01mreturn\u001b[39;00m _compile(pattern, flags)\u001b[38;5;241m.\u001b[39mfindall(string)\n",
      "\u001b[1;31mTypeError\u001b[0m: expected string or bytes-like object, got 'list'"
     ]
    }
   ],
   "source": [
    "wordcloud = WordCloud(width=450,height=250).generate(words_list)\n",
    "plt.imshow(wordcloud, interpolation='bilinear')\n",
    "plt.axis(\"off\")\n",
    "plt.show()"
   ]
  },
  {
   "cell_type": "code",
   "execution_count": null,
   "id": "393134fd-e656-40a8-9688-3371f31c1a43",
   "metadata": {},
   "outputs": [],
   "source": [
    "df_posts.to_csv('svo_bigrams.csv')"
   ]
  },
  {
   "cell_type": "code",
   "execution_count": null,
   "id": "547fd73b-b0fa-481a-98db-7d12c980b70c",
   "metadata": {},
   "outputs": [],
   "source": [
    "df_posts_mini = df_posts.iloc [0:50000]"
   ]
  },
  {
   "cell_type": "code",
   "execution_count": null,
   "id": "c26d22a3-39a9-487a-b75d-0f35ea32b359",
   "metadata": {},
   "outputs": [],
   "source": [
    "df_posts_mini.shape"
   ]
  },
  {
   "cell_type": "markdown",
   "id": "da35b717-1c11-451a-8ec3-e5be3770357a",
   "metadata": {},
   "source": [
    "**2. Токенизация комментариев к постам Сообщества \"Выборы Президента России 2024\"**"
   ]
  },
  {
   "cell_type": "code",
   "execution_count": null,
   "id": "82fe568d-6aba-4a04-bb13-598d2ae30cf8",
   "metadata": {},
   "outputs": [],
   "source": [
    "# применяем функцию к датафрейму с помощью метода .apply()\n",
    "tokenized= df_comments.comments_text.apply(tokenize_text)"
   ]
  },
  {
   "cell_type": "code",
   "execution_count": null,
   "id": "21654ee7-0cb3-4ddc-a181-488d30003ac8",
   "metadata": {},
   "outputs": [],
   "source": [
    "# добавляем новую колонку в исходный датафрейм\n",
    "df_comments = df_comments.assign(tokenized=tokenized)\n",
    "df_comments.head()"
   ]
  },
  {
   "cell_type": "code",
   "execution_count": null,
   "id": "91906727-fcd6-48fb-9cf0-9edaddfea6ad",
   "metadata": {},
   "outputs": [],
   "source": []
  },
  {
   "cell_type": "markdown",
   "id": "d5f88c6a-bd51-44bb-81c2-01a886ebd1a7",
   "metadata": {},
   "source": [
    "**Разведочный анализ данных**"
   ]
  },
  {
   "cell_type": "markdown",
   "id": "8b56daeb-46e2-4130-ae6d-29428f7e94b5",
   "metadata": {},
   "source": [
    "**1. Посты сообщества \"Выборы Президенрта России 2024\"**"
   ]
  },
  {
   "cell_type": "code",
   "execution_count": null,
   "id": "29776b15-5911-4cd6-aa7d-b4593beec29e",
   "metadata": {},
   "outputs": [],
   "source": [
    "words_list_posts = list(df_posts_mini['tokenized'])"
   ]
  },
  {
   "cell_type": "code",
   "execution_count": null,
   "id": "186d1238-7ce2-4edd-917f-e74ffd9ddd10",
   "metadata": {},
   "outputs": [],
   "source": [
    "len (words_list_posts)"
   ]
  },
  {
   "cell_type": "code",
   "execution_count": null,
   "id": "b13c228d-671c-4816-b9be-32f1e5bf8749",
   "metadata": {},
   "outputs": [],
   "source": [
    "all_words_posts = np.concatenate(words_list_posts)\n",
    "\n",
    "all_words_freq_posts = FreqDist(all_words_posts)\n",
    "\n",
    "print(\"Наиболлее популярные слова: \", all_words_freq_posts.most_common(100))\n",
    "print(\"\\nОбщее количество уникальных слов: \", len(all_words_freq_posts.keys()))"
   ]
  },
  {
   "cell_type": "code",
   "execution_count": null,
   "id": "15363c6c-d3b2-4a24-891a-d90e757b0977",
   "metadata": {},
   "outputs": [],
   "source": [
    "count, words = [], []\n",
    "for w in all_words_freq_posts.most_common(20):\n",
    "    words.append(w[0])\n",
    "    count.append(w[1])\n",
    "\n",
    "ax = sns.barplot(x=words,y=count)\n",
    "ax.set_xticklabels(ax.get_xticklabels(), rotation=45)\n",
    "ax.set_title ('Распределение частотности слов для постов сообщества \"Выборы Президента России 2024')\n",
    "plt.show()"
   ]
  },
  {
   "cell_type": "code",
   "execution_count": null,
   "id": "4e6ee760-d233-4a63-9dce-9d636f699309",
   "metadata": {},
   "outputs": [],
   "source": [
    "stop_words_ex = ['год','это', 'который']\n",
    "def stop_words_extra(text):\n",
    "    return [w for w in text if not w in stop_words_ex]"
   ]
  },
  {
   "cell_type": "code",
   "execution_count": null,
   "id": "cbd58e41-acf8-4021-8041-a1465665ac5a",
   "metadata": {},
   "outputs": [],
   "source": [
    "# применяем функцию к датафрейму с помощью метода .apply()\n",
    "tokens = df_posts.tokenized.apply(stop_words_extra)"
   ]
  },
  {
   "cell_type": "code",
   "execution_count": null,
   "id": "6b41eee3-c361-4d65-8237-472a77ccf19d",
   "metadata": {},
   "outputs": [],
   "source": [
    "# добавляем новую колонку в исходный датафрейм\n",
    "df_posts = df_posts.assign(tokens=tokens)\n",
    "df_posts.head()"
   ]
  },
  {
   "cell_type": "code",
   "execution_count": null,
   "id": "57f748d4-e9a4-4175-b15b-04f16a163373",
   "metadata": {},
   "outputs": [],
   "source": [
    "words_list_posts_new = list(df_posts['tokens'])\n"
   ]
  },
  {
   "cell_type": "code",
   "execution_count": null,
   "id": "0673b5f5-2aca-4781-9139-dad1442c666b",
   "metadata": {},
   "outputs": [],
   "source": [
    "all_words_posts_new = np.concatenate(words_list_posts_new)\n",
    "\n",
    "all_words_freq_posts_new = FreqDist(all_words_posts_new)\n",
    "\n",
    "print(\"Наиболлее популярные слова: \", all_words_freq_posts_new.most_common(100))\n",
    "print(\"\\nОбщее количество уникальных слов: \", len(all_words_freq_posts_new.keys()))"
   ]
  },
  {
   "cell_type": "code",
   "execution_count": null,
   "id": "7d807a50-4cda-49a0-940f-b906c78b7d40",
   "metadata": {},
   "outputs": [],
   "source": [
    "count, words = [], []\n",
    "for w in all_words_freq_posts_new.most_common(10):\n",
    "    words.append(w[0])\n",
    "    count.append(w[1])\n",
    "\n",
    "ax = sns.barplot(x=words,y=count)\n",
    "ax.set_xticklabels(ax.get_xticklabels(), rotation=45)\n",
    "ax.set_title ('Распределение частотности слов для постов из сообщества \"Выборы Президента России\"')\n",
    "plt.show()"
   ]
  },
  {
   "cell_type": "code",
   "execution_count": null,
   "id": "397c0964-b65f-437b-ac53-0e3a2c91789a",
   "metadata": {},
   "outputs": [],
   "source": []
  },
  {
   "cell_type": "markdown",
   "id": "3d38abb3-6707-4141-9d17-fe05f0a9b844",
   "metadata": {},
   "source": [
    "**2. Комменитарии к постам сообщества \"Выборы Президенрта России 2024\"**"
   ]
  },
  {
   "cell_type": "code",
   "execution_count": null,
   "id": "f84bcf2c-61c5-4604-8292-d5d3d3aceb6f",
   "metadata": {},
   "outputs": [],
   "source": [
    "# применяем функцию к датафрейму с помощью метода .apply()\n",
    "tokens = df_comments.tokenized.apply(stop_words_extra)"
   ]
  },
  {
   "cell_type": "code",
   "execution_count": null,
   "id": "acd67ac4-9bd3-48b0-b9ef-33f001e58501",
   "metadata": {},
   "outputs": [],
   "source": [
    "df_comments = df_comments.assign(tokens=tokens)\n",
    "df_comments.head()"
   ]
  },
  {
   "cell_type": "code",
   "execution_count": null,
   "id": "032256f7-85aa-4af4-8144-c755ef7142f1",
   "metadata": {},
   "outputs": [],
   "source": [
    "words_list_comments = list(df_comments['tokens'])"
   ]
  },
  {
   "cell_type": "code",
   "execution_count": null,
   "id": "702be656-9d5c-4222-8ff6-36e71f7f481a",
   "metadata": {},
   "outputs": [],
   "source": [
    "all_words_comments = np.concatenate(words_list_comments)\n",
    "\n",
    "all_words_freq_comments = FreqDist(all_words_comments)\n",
    "\n",
    "print(\"Наиболлее популярные слова: \", all_words_freq_comments.most_common(100))\n",
    "print(\"\\nОбщее количество уникальных слов: \", len(all_words_freq_comments.keys()))"
   ]
  },
  {
   "cell_type": "code",
   "execution_count": null,
   "id": "1ff4c611-348f-4ee2-bf2a-de37122c4b88",
   "metadata": {},
   "outputs": [],
   "source": [
    "count, words = [], []\n",
    "for w in all_words_freq_comments.most_common(10):\n",
    "    words.append(w[0])\n",
    "    count.append(w[1])\n",
    "\n",
    "ax = sns.barplot(x=words,y=count)\n",
    "ax.set_xticklabels(ax.get_xticklabels(), rotation=45)\n",
    "ax.set_title ('Распределение частотности слов для комментариев к постам сообщества \"Выборы Президента России 2024')\n",
    "plt.show()"
   ]
  },
  {
   "cell_type": "code",
   "execution_count": null,
   "id": "67983ef6-15f1-431c-b9d6-1388c5ca8e3f",
   "metadata": {},
   "outputs": [],
   "source": []
  },
  {
   "cell_type": "code",
   "execution_count": null,
   "id": "06fbf72c-a625-4407-97b5-90a834703ab0",
   "metadata": {},
   "outputs": [],
   "source": []
  },
  {
   "cell_type": "code",
   "execution_count": null,
   "id": "db6c0941-536a-4a8e-9edd-114ad6793866",
   "metadata": {},
   "outputs": [],
   "source": [
    "df_posts.to_csv('posts_tokenised.csv')"
   ]
  },
  {
   "cell_type": "code",
   "execution_count": null,
   "id": "0d3985c7-5d26-4b71-a87c-dd95e6ebafa6",
   "metadata": {},
   "outputs": [],
   "source": [
    "df_comments.to_csv('comments_tokenised.csv')"
   ]
  },
  {
   "cell_type": "code",
   "execution_count": null,
   "id": "af05115b-8ab0-417d-b06c-4c0a0481a191",
   "metadata": {},
   "outputs": [],
   "source": []
  },
  {
   "cell_type": "code",
   "execution_count": null,
   "id": "a3c7c4d1-13db-4fbe-a292-91126bdebced",
   "metadata": {},
   "outputs": [],
   "source": []
  }
 ],
 "metadata": {
  "kernelspec": {
   "display_name": "Python 3 (ipykernel)",
   "language": "python",
   "name": "python3"
  },
  "language_info": {
   "codemirror_mode": {
    "name": "ipython",
    "version": 3
   },
   "file_extension": ".py",
   "mimetype": "text/x-python",
   "name": "python",
   "nbconvert_exporter": "python",
   "pygments_lexer": "ipython3",
   "version": "3.11.7"
  }
 },
 "nbformat": 4,
 "nbformat_minor": 5
}
